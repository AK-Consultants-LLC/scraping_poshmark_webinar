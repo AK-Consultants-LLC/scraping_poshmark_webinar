{
 "cells": [
  {
   "cell_type": "markdown",
   "metadata": {},
   "source": [
    "**Binder** - https://mybinder.org/"
   ]
  },
  {
   "cell_type": "markdown",
   "metadata": {},
   "source": [
    "# Scraping Poshmark\n",
    "\n",
    "This notebook walks through how to scrape listings from [Poshmark.com](https://poshmark.com/). Poshmark is a social commerce platform where people buy and sell new and used clothing, shoes and accessories.\n",
    "\n",
    "![preview](poshmark-preview.png)\n"
   ]
  },
  {
   "cell_type": "markdown",
   "metadata": {},
   "source": [
    "<br>"
   ]
  },
  {
   "cell_type": "markdown",
   "metadata": {},
   "source": [
    "## Webpages 101\n",
    "\n",
    "Websites are built using HTML and CSS.\n",
    "\n",
    "HTML provides the layout for websites.\n",
    "\n",
    "CSS provides the styling like font sizes, colors and spacing.\n",
    "\n",
    "Scraping takes advantage of the inherent structure on webpages.\n",
    "\n",
    "We find elements by the common HTML elements and CSS classes. CSS classes are repeatable styling given to components with similar styling. For example, the item cards on Poshmark, all have the same exact look and feel, so their HTML code looks rather similar.\n",
    "\n",
    "Check out: [Naked & Famous Jeans](https://poshmark.com/brand/Naked_&_Famous_Denim-Men-Jeans?sort_by=added_desc) and use the Google Chrome Inspector.\n",
    "<br><br>\n",
    "\n",
    "![NF Code](nf-code.png)"
   ]
  },
  {
   "cell_type": "markdown",
   "metadata": {},
   "source": [
    "<br>"
   ]
  },
  {
   "cell_type": "markdown",
   "metadata": {},
   "source": [
    "## Scrape the listings page\n",
    "\n",
    "We'll use `requests` to pull down the website. Then, we'll print out the response variable which contains the HTML code."
   ]
  },
  {
   "cell_type": "code",
   "execution_count": 1,
   "metadata": {},
   "outputs": [
    {
     "name": "stdout",
     "output_type": "stream",
     "text": [
      "<!DOCTYPE html>\n",
      "<html lang=\"en\" xml:lang=\"en\" xmlns=\"http://www.w3.org/1999/xhtml\" data-vue-meta-server-rendered=\"true\" data-vue-meta=\"%7B%22lang%22:%7B%221%22:%22en%22%7D,%22xml:lang%22:%7B%221%22:%22en%22%7D,%22xmlns%22:%7B%221%22:%22http://www.w3.org/1999/xhtml%22%7D,%22data-vue-meta-server-rendered%22:%7B%221%22:true%7D%7D\">\n",
      "  <head>\n",
      "    <!-- NREUM: (0) -->\n",
      "    <title>Naked &amp; Famous Denim Jeans for Men - Poshmark</title>\n",
      "    <meta data-vue-meta=\"1\" charset=\"utf-8\"><meta data-vue-meta=\"1\"\n"
     ]
    }
   ],
   "source": [
    "from requests import get\n",
    "\n",
    "url = \"https://poshmark.com/brand/Naked_&_Famous_Denim-Men-Jeans\"\n",
    "response = get(url)\n",
    "print(response.text[:500])"
   ]
  },
  {
   "cell_type": "markdown",
   "metadata": {},
   "source": [
    "We can use `beautifulsoup` to parse the raw HTML. It returns a BeautifulSoup object."
   ]
  },
  {
   "cell_type": "code",
   "execution_count": 2,
   "metadata": {},
   "outputs": [
    {
     "data": {
      "text/plain": [
       "bs4.BeautifulSoup"
      ]
     },
     "execution_count": 2,
     "metadata": {},
     "output_type": "execute_result"
    }
   ],
   "source": [
    "from bs4 import BeautifulSoup\n",
    "html_soup = BeautifulSoup(response.text, 'html.parser')\n",
    "type(html_soup)"
   ]
  },
  {
   "cell_type": "markdown",
   "metadata": {},
   "source": [
    "We can use built-in methods to search for the repeating tiles in the HTML code. We use the CSS classes for this."
   ]
  },
  {
   "cell_type": "code",
   "execution_count": 3,
   "metadata": {},
   "outputs": [
    {
     "name": "stdout",
     "output_type": "stream",
     "text": [
      "<class 'bs4.element.ResultSet'>\n",
      "48\n"
     ]
    }
   ],
   "source": [
    "clothing_containers = html_soup.find_all('div', class_ = 'tile')\n",
    "print(type(clothing_containers))\n",
    "print(len(clothing_containers))"
   ]
  },
  {
   "cell_type": "markdown",
   "metadata": {},
   "source": [
    "Let's take a look at the first tile."
   ]
  },
  {
   "cell_type": "code",
   "execution_count": 4,
   "metadata": {},
   "outputs": [
    {
     "name": "stdout",
     "output_type": "stream",
     "text": [
      "<div class=\"tile col-x12 col-l6 col-s8\"><div class=\"card card--small\"><a class=\"tile__covershot\" data-et-element-type=\"image\" data-et-name=\"listing\" data-et-prop-listing_id=\"5e5766ffe974fbbf3d5dc1d7\" data-et-prop-location=\"listing_tile\" data-et-prop-unit_position=\"0\" data-test=\"imagelink\" href=\"/listing/Naked-Famous-mens-Selvedge-Slim-Guy-Black-28x31-5e5766ffe974fbbf3d5dc1d7\"><div class=\"img__container img__container--square\"><img alt=\"Naked &amp; Famous men's Selvedge Slim Guy Black 28x31\" data-src=\"https://di2ponv0v5otw.cloudfront.net/posts/2020/02/26/5e5766ffe974fbbf3d5dc1d7/s_5e5767138d653d73c4e870a5.jpg\" src=\"https://di2ponv0v5otw.cloudfront.net/posts/2020/02/26/5e5766ffe974fbbf3d5dc1d7/s_5e5767138d653d73c4e870a5.jpg\"/></div><!-- --></a><div class=\"item__details\"><div class=\"title__condition__container\"><a class=\"tile__title tc--b\" data-et-element-type=\"link\" data-et-name=\"listing\" data-et-prop-listing_id=\"5e5766ffe974fbbf3d5dc1d7\" data-et-prop-location=\"listing_tile\" data-et-prop-unit_position=\"0\" data-test=\"tile-title\" href=\"/listing/Naked-Famous-mens-Selvedge-Slim-Guy-Black-28x31-5e5766ffe974fbbf3d5dc1d7\">\n",
      "          Naked &amp; Famous men's Selvedge Slim Guy Black 28x31\n",
      "        </a><!-- --></div><div class=\"m--t--1\"><span class=\"p--t--1 fw--bold\" data-test=\"tile-price\">\n",
      "          $54\n",
      "        </span><span class=\"p--l--1 tc--lg td--lt\" data-test=\"tile-original-price\">\n",
      "          $0\n",
      "        </span></div><div class=\"m--t--1\"><a class=\"tile__details__pipe__size ellipses\" data-test=\"tile-size\" href=\"/category/Men-Jeans?size=28\">\n",
      "          Size: 28\n",
      "        </a><a class=\"tile__details__pipe__brand ellipses\" data-et-name=\"listing_brand\" data-et-prop-location=\"listing_tile\" data-test=\"tile-brand\" href=\"/brand/Naked_&amp;_Famous_Denim\" style=\"width:calc(100% - 9ch);\">\n",
      "          Naked &amp; Famous Denim\n",
      "        </a></div></div><a class=\"tile__creator\" data-et-name=\"seller\" data-et-prop-location=\"listing_tile\" data-test=\"tile-creator\" href=\"/closet/denimandgloss\"><img alt=\"denimandgloss\" class=\"user-image user-image--xs\" src=\"https://di2ponv0v5otw.cloudfront.net/users/2019/11/19/5aac997a357a587af638405a/t_5dd4699acdbd49ede393fd13.jpg\"/><span class=\"tc--g m--l--1\">denimandgloss</span></a><div class=\"social-action-bar tile__social-actions\"><div class=\"d--fl ai--c cursor--pointer social-action-bar__action social-action-bar__like\" data-et-element-type=\"button\" data-et-name=\"like\" data-et-prop-listing_id=\"5e5766ffe974fbbf3d5dc1d7\"><i class=\"icon as--c like btn__icon\"></i><!-- --><span>3</span></div><a class=\"social-action-bar__action social-action-bar__comment\" data-et-element-type=\"button\" data-et-name=\"comment\" data-et-prop-listing_id=\"5e5766ffe974fbbf3d5dc1d7\"><i class=\"icon comment-gray btn__icon\"></i><!-- --></a><div class=\"d--fl ai--c social-action-bar__action social-action-bar__share\" data-et-element-type=\"button\" data-et-name=\"share\" data-et-prop-listing_id=\"5e5766ffe974fbbf3d5dc1d7\"><i class=\"icon share-gray-large\"></i><!-- --></div></div></div></div>\n"
     ]
    }
   ],
   "source": [
    "first_tile = clothing_containers[0]\n",
    "print(first_tile)"
   ]
  },
  {
   "cell_type": "markdown",
   "metadata": {},
   "source": [
    "BeautifulSoup has a prettify method which allows use to make HTML code more readable with proper indentation."
   ]
  },
  {
   "cell_type": "code",
   "execution_count": 5,
   "metadata": {},
   "outputs": [
    {
     "name": "stdout",
     "output_type": "stream",
     "text": [
      "<div class=\"tile col-x12 col-l6 col-s8\">\n",
      " <div class=\"card card--small\">\n",
      "  <a class=\"tile__covershot\" data-et-element-type=\"image\" data-et-name=\"listing\" data-et-prop-listing_id=\"5e5766ffe974fbbf3d5dc1d7\" data-et-prop-location=\"listing_tile\" data-et-prop-unit_position=\"0\" data-test=\"imagelink\" href=\"/listing/Naked-Famous-mens-Selvedge-Slim-Guy-Black-28x31-5e5766ffe974fbbf3d5dc1d7\">\n",
      "   <div class=\"img__container img__container--square\">\n",
      "    <img alt=\"Naked &amp; Famous men's Selvedge Slim Guy Black 28x31\" data-src=\"https://di2ponv0v5otw.cloudfront.net/posts/2020/02/26/5e5766ffe974fbbf3d5dc1d7/s_5e5767138d653d73c4e870a5.jpg\" src=\"https://di2ponv0v5otw.cloudfront.net/posts/2020/02/26/5e5766ffe974fbbf3d5dc1d7/s_5e5767138d653d73c4e870a5.jpg\"/>\n",
      "   </div>\n",
      "   <!-- -->\n",
      "  </a>\n",
      "  <div class=\"item__details\">\n",
      "   <div class=\"title__condition__container\">\n",
      "    <a class=\"tile__title tc--b\" data-et-element-type=\"link\" data-et-name=\"listing\" data-et-prop-listing_id=\"5e5766ffe974fbbf3d5dc1d7\" data-et-prop-location=\"listing_tile\" data-et-prop-unit_position=\"0\" data-test=\"tile-title\" href=\"/listing/Naked-Famous-mens-Selvedge-Slim-Guy-Black-28x31-5e5766ffe974fbbf3d5dc1d7\">\n",
      "     Naked &amp; Famous men's Selvedge Slim Guy Black 28x31\n",
      "    </a>\n",
      "    <!-- -->\n",
      "   </div>\n",
      "   <div class=\"m--t--1\">\n",
      "    <span class=\"p--t--1 fw--bold\" data-test=\"tile-price\">\n",
      "     $54\n",
      "    </span>\n",
      "    <span class=\"p--l--1 tc--lg td--lt\" data-test=\"tile-original-price\">\n",
      "     $0\n",
      "    </span>\n",
      "   </div>\n",
      "   <div class=\"m--t--1\">\n",
      "    <a class=\"tile__details__pipe__size ellipses\" data-test=\"tile-size\" href=\"/category/Men-Jeans?size=28\">\n",
      "     Size: 28\n",
      "    </a>\n",
      "    <a class=\"tile__details__pipe__brand ellipses\" data-et-name=\"listing_brand\" data-et-prop-location=\"listing_tile\" data-test=\"tile-brand\" href=\"/brand/Naked_&amp;_Famous_Denim\" style=\"width:calc(100% - 9ch);\">\n",
      "     Naked &amp; Famous Denim\n",
      "    </a>\n",
      "   </div>\n",
      "  </div>\n",
      "  <a class=\"tile__creator\" data-et-name=\"seller\" data-et-prop-location=\"listing_tile\" data-test=\"tile-creator\" href=\"/closet/denimandgloss\">\n",
      "   <img alt=\"denimandgloss\" class=\"user-image user-image--xs\" src=\"https://di2ponv0v5otw.cloudfront.net/users/2019/11/19/5aac997a357a587af638405a/t_5dd4699acdbd49ede393fd13.jpg\"/>\n",
      "   <span class=\"tc--g m--l--1\">\n",
      "    denimandgloss\n",
      "   </span>\n",
      "  </a>\n",
      "  <div class=\"social-action-bar tile__social-actions\">\n",
      "   <div class=\"d--fl ai--c cursor--pointer social-action-bar__action social-action-bar__like\" data-et-element-type=\"button\" data-et-name=\"like\" data-et-prop-listing_id=\"5e5766ffe974fbbf3d5dc1d7\">\n",
      "    <i class=\"icon as--c like btn__icon\">\n",
      "    </i>\n",
      "    <!-- -->\n",
      "    <span>\n",
      "     3\n",
      "    </span>\n",
      "   </div>\n",
      "   <a class=\"social-action-bar__action social-action-bar__comment\" data-et-element-type=\"button\" data-et-name=\"comment\" data-et-prop-listing_id=\"5e5766ffe974fbbf3d5dc1d7\">\n",
      "    <i class=\"icon comment-gray btn__icon\">\n",
      "    </i>\n",
      "    <!-- -->\n",
      "   </a>\n",
      "   <div class=\"d--fl ai--c social-action-bar__action social-action-bar__share\" data-et-element-type=\"button\" data-et-name=\"share\" data-et-prop-listing_id=\"5e5766ffe974fbbf3d5dc1d7\">\n",
      "    <i class=\"icon share-gray-large\">\n",
      "    </i>\n",
      "    <!-- -->\n",
      "   </div>\n",
      "  </div>\n",
      " </div>\n",
      "</div>\n",
      "\n"
     ]
    }
   ],
   "source": [
    "print(first_tile.prettify())"
   ]
  },
  {
   "cell_type": "markdown",
   "metadata": {},
   "source": [
    "We want to extract the following values:\n",
    "- Item Title\n",
    "- Item Price\n",
    "- Item Size\n",
    "- Item Brand\n",
    "- Item Page Link\n",
    "- Item Image Link"
   ]
  },
  {
   "cell_type": "code",
   "execution_count": 6,
   "metadata": {},
   "outputs": [
    {
     "name": "stdout",
     "output_type": "stream",
     "text": [
      "<a class=\"tile__title tc--b\" data-et-element-type=\"link\" data-et-name=\"listing\" data-et-prop-listing_id=\"5e5766ffe974fbbf3d5dc1d7\" data-et-prop-location=\"listing_tile\" data-et-prop-unit_position=\"0\" data-test=\"tile-title\" href=\"/listing/Naked-Famous-mens-Selvedge-Slim-Guy-Black-28x31-5e5766ffe974fbbf3d5dc1d7\">\n",
      "          Naked &amp; Famous men's Selvedge Slim Guy Black 28x31\n",
      "        </a>\n"
     ]
    }
   ],
   "source": [
    "# Item Title\n",
    "first_title = first_tile.find('a', class_='tile__title')\n",
    "print(first_title)"
   ]
  },
  {
   "cell_type": "code",
   "execution_count": 7,
   "metadata": {},
   "outputs": [
    {
     "name": "stdout",
     "output_type": "stream",
     "text": [
      "\n",
      "          Naked & Famous men's Selvedge Slim Guy Black 28x31\n",
      "        \n"
     ]
    }
   ],
   "source": [
    "first_title = first_tile.find('a', class_='tile__title').get_text()\n",
    "print(first_title)"
   ]
  },
  {
   "cell_type": "code",
   "execution_count": 8,
   "metadata": {},
   "outputs": [
    {
     "name": "stdout",
     "output_type": "stream",
     "text": [
      "Naked & Famous men's Selvedge Slim Guy Black 28x31\n"
     ]
    }
   ],
   "source": [
    "first_title = first_tile.find('a', class_='tile__title').get_text(strip=True)\n",
    "print(first_title)"
   ]
  },
  {
   "cell_type": "markdown",
   "metadata": {},
   "source": [
    "<br>"
   ]
  },
  {
   "cell_type": "code",
   "execution_count": 9,
   "metadata": {},
   "outputs": [
    {
     "name": "stdout",
     "output_type": "stream",
     "text": [
      "<span class=\"p--t--1 fw--bold\" data-test=\"tile-price\">\n",
      "          $54\n",
      "        </span>\n"
     ]
    }
   ],
   "source": [
    "# Item Price\n",
    "first_price = first_tile.find('span', attrs={'data-test': 'tile-price'})\n",
    "print(first_price)"
   ]
  },
  {
   "cell_type": "code",
   "execution_count": 10,
   "metadata": {},
   "outputs": [
    {
     "name": "stdout",
     "output_type": "stream",
     "text": [
      "$54\n"
     ]
    }
   ],
   "source": [
    "first_price = first_tile.find('span', attrs={'data-test': 'tile-price'}).get_text(strip=True)\n",
    "print(first_price)"
   ]
  },
  {
   "cell_type": "markdown",
   "metadata": {},
   "source": [
    "<br>"
   ]
  },
  {
   "cell_type": "code",
   "execution_count": 11,
   "metadata": {},
   "outputs": [
    {
     "name": "stdout",
     "output_type": "stream",
     "text": [
      "Size: 28\n"
     ]
    }
   ],
   "source": [
    "# Item Size\n",
    "first_size = first_tile.find('a', attrs={'data-test': 'tile-size'}).get_text(strip=True)\n",
    "print(first_size)"
   ]
  },
  {
   "cell_type": "markdown",
   "metadata": {},
   "source": [
    "<br>"
   ]
  },
  {
   "cell_type": "code",
   "execution_count": 12,
   "metadata": {},
   "outputs": [
    {
     "name": "stdout",
     "output_type": "stream",
     "text": [
      "Naked & Famous Denim\n"
     ]
    }
   ],
   "source": [
    "# Item Brand\n",
    "first_brand = first_tile.find('a', attrs={'data-test': 'tile-brand'}).get_text(strip=True)\n",
    "print(first_brand)"
   ]
  },
  {
   "cell_type": "markdown",
   "metadata": {},
   "source": [
    "<br>"
   ]
  },
  {
   "cell_type": "code",
   "execution_count": 13,
   "metadata": {},
   "outputs": [
    {
     "name": "stdout",
     "output_type": "stream",
     "text": [
      "/listing/Naked-Famous-mens-Selvedge-Slim-Guy-Black-28x31-5e5766ffe974fbbf3d5dc1d7\n"
     ]
    }
   ],
   "source": [
    "# Item Detail URL\n",
    "first_link = first_tile.find('a', class_='tile__title').get('href')\n",
    "print(first_link)"
   ]
  },
  {
   "cell_type": "code",
   "execution_count": 14,
   "metadata": {},
   "outputs": [
    {
     "name": "stdout",
     "output_type": "stream",
     "text": [
      "http://www.poshmark.com/listing/Naked-Famous-mens-Selvedge-Slim-Guy-Black-28x31-5e5766ffe974fbbf3d5dc1d7\n"
     ]
    }
   ],
   "source": [
    "first_link = 'http://www.poshmark.com' + first_tile.find('a', class_='tile__title').get('href')\n",
    "print(first_link)"
   ]
  },
  {
   "cell_type": "markdown",
   "metadata": {},
   "source": [
    "<br>"
   ]
  },
  {
   "cell_type": "code",
   "execution_count": 15,
   "metadata": {},
   "outputs": [
    {
     "name": "stdout",
     "output_type": "stream",
     "text": [
      "<img alt=\"Naked &amp; Famous men's Selvedge Slim Guy Black 28x31\" data-src=\"https://di2ponv0v5otw.cloudfront.net/posts/2020/02/26/5e5766ffe974fbbf3d5dc1d7/s_5e5767138d653d73c4e870a5.jpg\" src=\"https://di2ponv0v5otw.cloudfront.net/posts/2020/02/26/5e5766ffe974fbbf3d5dc1d7/s_5e5767138d653d73c4e870a5.jpg\"/>\n"
     ]
    }
   ],
   "source": [
    "# Item Image URL\n",
    "first_image = first_tile.find('img')\n",
    "print(first_image)"
   ]
  },
  {
   "cell_type": "code",
   "execution_count": 16,
   "metadata": {},
   "outputs": [
    {
     "name": "stdout",
     "output_type": "stream",
     "text": [
      "https://di2ponv0v5otw.cloudfront.net/posts/2020/02/26/5e5766ffe974fbbf3d5dc1d7/s_5e5767138d653d73c4e870a5.jpg\n"
     ]
    }
   ],
   "source": [
    "first_image = first_tile.find('img').get('src')\n",
    "print(first_image)"
   ]
  },
  {
   "cell_type": "markdown",
   "metadata": {},
   "source": [
    "<br>"
   ]
  },
  {
   "cell_type": "markdown",
   "metadata": {},
   "source": [
    "## Format the data\n",
    "\n",
    "We scraped the raw data. However, all the data are strings. We need to convert them to the appropriate types."
   ]
  },
  {
   "cell_type": "code",
   "execution_count": 17,
   "metadata": {},
   "outputs": [
    {
     "name": "stdout",
     "output_type": "stream",
     "text": [
      "Title:  Naked & Famous men's Selvedge Slim Guy Black 28x31\n",
      "Price:  $54\n",
      "Size:  Size: 28\n",
      "Brand:  Naked & Famous Denim\n",
      "Link:  http://www.poshmark.com/listing/Naked-Famous-mens-Selvedge-Slim-Guy-Black-28x31-5e5766ffe974fbbf3d5dc1d7\n",
      "Image:  https://di2ponv0v5otw.cloudfront.net/posts/2020/02/26/5e5766ffe974fbbf3d5dc1d7/s_5e5767138d653d73c4e870a5.jpg\n"
     ]
    }
   ],
   "source": [
    "print('Title: ', first_title)\n",
    "print('Price: ', first_price)\n",
    "print('Size: ', first_size)\n",
    "print('Brand: ', first_brand)\n",
    "print('Link: ', first_link)\n",
    "print('Image: ', first_image)"
   ]
  },
  {
   "cell_type": "markdown",
   "metadata": {},
   "source": [
    "The title and links can stay the same. However, we will need to convert price and size to `int`."
   ]
  },
  {
   "cell_type": "code",
   "execution_count": 18,
   "metadata": {},
   "outputs": [
    {
     "name": "stdout",
     "output_type": "stream",
     "text": [
      "<class 'str'>\n",
      "54\n"
     ]
    }
   ],
   "source": [
    "fixed_price = first_price.replace('$', '')\n",
    "print(type(fixed_price))\n",
    "print(fixed_price)"
   ]
  },
  {
   "cell_type": "code",
   "execution_count": 19,
   "metadata": {},
   "outputs": [
    {
     "name": "stdout",
     "output_type": "stream",
     "text": [
      "<class 'int'>\n",
      "54\n"
     ]
    }
   ],
   "source": [
    "fixed_price = int(first_price.replace('$', ''))\n",
    "print(type(fixed_price))\n",
    "print(fixed_price)"
   ]
  },
  {
   "cell_type": "code",
   "execution_count": 20,
   "metadata": {},
   "outputs": [
    {
     "name": "stdout",
     "output_type": "stream",
     "text": [
      "<class 'int'>\n",
      "28\n"
     ]
    }
   ],
   "source": [
    "fixed_size = int(first_size.replace('Size: ', ''))\n",
    "print(type(fixed_size))\n",
    "print(fixed_size)"
   ]
  },
  {
   "cell_type": "markdown",
   "metadata": {},
   "source": [
    "<br>"
   ]
  },
  {
   "cell_type": "markdown",
   "metadata": {},
   "source": [
    "## Extracting a new feature\n",
    "\n",
    "If you took a close look at the image URL, you can see the path actually shows when the posting was created. Let's extract that."
   ]
  },
  {
   "cell_type": "code",
   "execution_count": 21,
   "metadata": {},
   "outputs": [
    {
     "name": "stdout",
     "output_type": "stream",
     "text": [
      "43\n"
     ]
    }
   ],
   "source": [
    "start_idx = first_image.find('2020')\n",
    "print(start_idx)"
   ]
  },
  {
   "cell_type": "code",
   "execution_count": 22,
   "metadata": {},
   "outputs": [
    {
     "name": "stdout",
     "output_type": "stream",
     "text": [
      "2020/02/26\n"
     ]
    }
   ],
   "source": [
    "end_idx = start_idx + 10\n",
    "raw_date = first_image[start_idx:end_idx]\n",
    "print(raw_date)"
   ]
  },
  {
   "cell_type": "code",
   "execution_count": 23,
   "metadata": {},
   "outputs": [
    {
     "name": "stdout",
     "output_type": "stream",
     "text": [
      "2020-02-26 00:00:00\n"
     ]
    }
   ],
   "source": [
    "from dateutil.parser import parse\n",
    "\n",
    "first_date = parse(raw_date)\n",
    "print(first_date)"
   ]
  },
  {
   "cell_type": "markdown",
   "metadata": {},
   "source": [
    "We can find the approximate days the item has been listed."
   ]
  },
  {
   "cell_type": "code",
   "execution_count": 24,
   "metadata": {},
   "outputs": [
    {
     "name": "stdout",
     "output_type": "stream",
     "text": [
      "63\n"
     ]
    }
   ],
   "source": [
    "from datetime import datetime\n",
    "\n",
    "now = datetime.now()\n",
    "diff = abs((first_date-now).days)\n",
    "print(diff)"
   ]
  },
  {
   "cell_type": "markdown",
   "metadata": {},
   "source": [
    "<br>"
   ]
  },
  {
   "cell_type": "markdown",
   "metadata": {},
   "source": [
    "# 5 minute break"
   ]
  },
  {
   "cell_type": "markdown",
   "metadata": {},
   "source": [
    "<br>"
   ]
  },
  {
   "cell_type": "markdown",
   "metadata": {},
   "source": [
    "## Refactor code, create functions\n",
    "\n",
    "Here we'll refactor our code and create functions to extract all the data. A \"good\" function follows these guidelines:\n",
    "\n",
    "- Is sensibly named\n",
    "- Has a single responsibility\n",
    "- Includes a docstring\n",
    "- Returns a value\n",
    "- Is not longer than 50 lines"
   ]
  },
  {
   "cell_type": "code",
   "execution_count": 25,
   "metadata": {},
   "outputs": [],
   "source": [
    "from dateutil.parser import parse\n",
    "from datetime import datetime\n",
    "\n",
    "def download_page(url):\n",
    "    \"Download HTML source for a given URL\"\n",
    "    response = get(url)\n",
    "    return response\n",
    "\n",
    "def create_soup(source):\n",
    "    \"Convert HTML source to BeautifulSoup object\"\n",
    "    soup = BeautifulSoup(source.text, 'html.parser')\n",
    "    return soup\n",
    "\n",
    "def extract_tiles(soup):\n",
    "    \"Extract all the clothing tile elements\"\n",
    "    containers = soup.find_all('div', class_ = 'tile')\n",
    "    return containers\n",
    "\n",
    "def extract_title(tile):\n",
    "    \"Extract the title string from a tile\"\n",
    "    title = tile.find('a', class_='tile__title').get_text(strip=True)\n",
    "    return title\n",
    "\n",
    "def extract_price(tile):\n",
    "    \"Extract the price integer from a tile\"\n",
    "    price_string = tile.find('span', attrs={'data-test': 'tile-price'}).get_text(strip=True)\n",
    "    price = int(price_string.replace('$', ''))\n",
    "    return price\n",
    "\n",
    "def extract_size(tile):\n",
    "    \"Extract the size integer from a tile\"\n",
    "    size_string = tile.find('a', attrs={'data-test': 'tile-size'}).get_text(strip=True)\n",
    "    size = int(size_string.replace('Size: ', ''))\n",
    "    return size\n",
    "\n",
    "def extract_brand(tile):\n",
    "    \"Extract the brand string from a tile\"\n",
    "    brand = tile.find('a', attrs={'data-test': 'tile-brand'}).get_text(strip=True)\n",
    "    return brand\n",
    "\n",
    "def extract_link(tile):\n",
    "    \"Extract the link string from a tile\"\n",
    "    partial_link = tile.find('a', class_='tile__title').get('href')\n",
    "    link = 'http://www.poshmark.com' + partial_link\n",
    "    return link\n",
    "\n",
    "def extract_image(tile):\n",
    "    \"Extract the image link string from a tile\"\n",
    "    image = tile.find('img').get('data-src')\n",
    "    return image\n",
    "    \n",
    "def extract_date(url):\n",
    "    \"Extract the posting date from a url\"\n",
    "    start = url.find('20')\n",
    "    end = start + 10\n",
    "    raw_date = url[start:end]\n",
    "    date = parse(raw_date)\n",
    "    return date\n",
    "\n",
    "def find_difference(date):\n",
    "    \"Find the amount of days an item has been listed\"\n",
    "    now = datetime.now()\n",
    "    diff = abs((date-now).days)\n",
    "    return diff"
   ]
  },
  {
   "cell_type": "code",
   "execution_count": 26,
   "metadata": {},
   "outputs": [],
   "source": [
    "def combine_data(tile):\n",
    "    try:\n",
    "        title = extract_title(tile)\n",
    "    except:\n",
    "        title = ''\n",
    "        \n",
    "    try:\n",
    "        price = extract_price(tile)\n",
    "    except: \n",
    "        price = ''\n",
    "        \n",
    "    try:\n",
    "        size = extract_size(tile)\n",
    "    except:\n",
    "        size = ''\n",
    "    \n",
    "    try:\n",
    "        brand = extract_brand(tile)\n",
    "    except:\n",
    "        brand = ''\n",
    "    \n",
    "    try: \n",
    "        link = extract_link(tile)\n",
    "    except:\n",
    "        link = ''\n",
    "        \n",
    "    try:\n",
    "        image = extract_image(tile)\n",
    "    except:\n",
    "        image = ''\n",
    "        \n",
    "    try:\n",
    "        date = extract_date(image)\n",
    "        difference = find_difference(date)\n",
    "    except:\n",
    "        date = ''\n",
    "        difference = ''\n",
    "        \n",
    "    return {\n",
    "        'title': title,\n",
    "        'price': price,\n",
    "        'size': size,\n",
    "        'brand': brand,\n",
    "        'link': link,\n",
    "        'image': image,\n",
    "        'date': date,\n",
    "        'difference': difference \n",
    "    }"
   ]
  },
  {
   "cell_type": "markdown",
   "metadata": {},
   "source": [
    "## Extract all tiles on initial page\n",
    "\n",
    "Now we can use the function to extract all the data from the page."
   ]
  },
  {
   "cell_type": "code",
   "execution_count": 27,
   "metadata": {},
   "outputs": [],
   "source": [
    "url = \"https://poshmark.com/brand/Naked_&_Famous_Denim-Men-Jeans\"\n",
    "\n",
    "page = download_page(url)\n",
    "soup_obj = create_soup(page)\n",
    "item_tiles = extract_tiles(soup_obj)\n",
    "item_objs = [combine_data(tile) for tile in item_tiles]"
   ]
  },
  {
   "cell_type": "code",
   "execution_count": 28,
   "metadata": {},
   "outputs": [
    {
     "name": "stdout",
     "output_type": "stream",
     "text": [
      "48\n"
     ]
    }
   ],
   "source": [
    "print(len(item_objs))"
   ]
  },
  {
   "cell_type": "code",
   "execution_count": 29,
   "metadata": {},
   "outputs": [
    {
     "name": "stdout",
     "output_type": "stream",
     "text": [
      "{'title': \"Naked & Famous men's Selvedge Slim Guy Black 28x31\", 'price': 54, 'size': 28, 'brand': 'Naked & Famous Denim', 'link': 'http://www.poshmark.com/listing/Naked-Famous-mens-Selvedge-Slim-Guy-Black-28x31-5e5766ffe974fbbf3d5dc1d7', 'image': 'https://di2ponv0v5otw.cloudfront.net/posts/2020/02/26/5e5766ffe974fbbf3d5dc1d7/s_5e5767138d653d73c4e870a5.jpg', 'date': datetime.datetime(2020, 2, 26, 0, 0), 'difference': 63}\n",
      "-------\n",
      "{'title': 'Naked & Famous Grey Selvedge Easy Guy Jeans 29', 'price': 65, 'size': 29, 'brand': 'Naked & Famous Denim', 'link': 'http://www.poshmark.com/listing/Naked-Famous-Grey-Selvedge-Easy-Guy-Jeans-29-5e9e4a6309d7607f070ddcfe', 'image': 'https://di2ponv0v5otw.cloudfront.net/posts/2020/04/20/5e9e4a6309d7607f070ddcfe/s_5e9e4a99ae766f3b6aff0b44.jpg', 'date': datetime.datetime(2020, 4, 20, 0, 0), 'difference': 9}\n"
     ]
    }
   ],
   "source": [
    "print(item_objs[0])\n",
    "print('-------')\n",
    "print(item_objs[45])"
   ]
  },
  {
   "cell_type": "code",
   "execution_count": 30,
   "metadata": {},
   "outputs": [
    {
     "name": "stdout",
     "output_type": "stream",
     "text": [
      "{'brand': 'Naked & Famous Denim',\n",
      " 'date': datetime.datetime(2020, 2, 26, 0, 0),\n",
      " 'difference': 63,\n",
      " 'image': 'https://di2ponv0v5otw.cloudfront.net/posts/2020/02/26/5e5766ffe974fbbf3d5dc1d7/s_5e5767138d653d73c4e870a5.jpg',\n",
      " 'link': 'http://www.poshmark.com/listing/Naked-Famous-mens-Selvedge-Slim-Guy-Black-28x31-5e5766ffe974fbbf3d5dc1d7',\n",
      " 'price': 54,\n",
      " 'size': 28,\n",
      " 'title': \"Naked & Famous men's Selvedge Slim Guy Black 28x31\"}\n"
     ]
    }
   ],
   "source": [
    "from pprint import pprint\n",
    "\n",
    "pprint(item_objs[0])"
   ]
  },
  {
   "cell_type": "markdown",
   "metadata": {},
   "source": [
    "<div class=\"alert alert-warning\">\n",
    "\n",
    "<b>Note:</b> There are hundreds of listings, but we can only scrape the first 48.\n",
    "\n",
    "<p>Modern websites use JavaScript to load additional results to prevent long initial load times. Our initial page download only includes the first set of listings. If you want to extract all the listings, you will have to use a headless browser. It creates a Chrome/Firefox instance in the background to mimic a real page visit.</p>\n",
    "\n",
    "<p>That is a bit more complicated and out of the scope for now. I can demonstrate in a future talk.</p>\n",
    "\n",
    "</div>"
   ]
  },
  {
   "cell_type": "markdown",
   "metadata": {},
   "source": [
    "## Extract other denim brands\n",
    "\n",
    "Let's extract the data for other denim brands as well."
   ]
  },
  {
   "cell_type": "code",
   "execution_count": 31,
   "metadata": {},
   "outputs": [],
   "source": [
    "brands = ['J._Crew', 'Naked_&_Famous_Denim', \"Levi's\", 'Diesel']\n",
    "store = []\n",
    "\n",
    "for tag in brands:\n",
    "    url = f\"https://poshmark.com/brand/{tag}-Men-Jeans\"\n",
    "    page = download_page(url)\n",
    "    soup_obj = create_soup(page)\n",
    "    item_tiles = extract_tiles(soup_obj)\n",
    "    item_objs = [combine_data(tile) for tile in item_tiles]\n",
    "    store.append(item_objs)"
   ]
  },
  {
   "cell_type": "code",
   "execution_count": 32,
   "metadata": {},
   "outputs": [
    {
     "name": "stdout",
     "output_type": "stream",
     "text": [
      "4\n",
      "48\n"
     ]
    }
   ],
   "source": [
    "print(len(store))\n",
    "print(len(store[0]))"
   ]
  },
  {
   "cell_type": "code",
   "execution_count": 33,
   "metadata": {},
   "outputs": [],
   "source": [
    "brands = ['J._Crew', 'Naked_&_Famous_Denim', \"Levi's\", 'Diesel']\n",
    "store = []\n",
    "\n",
    "for tag in brands:\n",
    "    url = f\"https://poshmark.com/brand/{tag}-Men-Jeans\"\n",
    "    page = download_page(url)\n",
    "    soup_obj = create_soup(page)\n",
    "    item_tiles = extract_tiles(soup_obj)\n",
    "    item_objs = [combine_data(tile) for tile in item_tiles]\n",
    "    store.extend(item_objs)"
   ]
  },
  {
   "cell_type": "code",
   "execution_count": 34,
   "metadata": {},
   "outputs": [
    {
     "name": "stdout",
     "output_type": "stream",
     "text": [
      "192\n",
      "8\n"
     ]
    }
   ],
   "source": [
    "print(len(store))\n",
    "print(len(store[0]))"
   ]
  },
  {
   "cell_type": "markdown",
   "metadata": {},
   "source": [
    "## Examing the scraped data\n",
    "\n",
    "You can bring the data into `pandas` for further examination."
   ]
  },
  {
   "cell_type": "code",
   "execution_count": 35,
   "metadata": {},
   "outputs": [
    {
     "name": "stdout",
     "output_type": "stream",
     "text": [
      "<class 'pandas.core.frame.DataFrame'>\n",
      "RangeIndex: 192 entries, 0 to 191\n",
      "Data columns (total 8 columns):\n",
      "brand         192 non-null object\n",
      "date          192 non-null datetime64[ns]\n",
      "difference    192 non-null int64\n",
      "image         192 non-null object\n",
      "link          192 non-null object\n",
      "price         192 non-null int64\n",
      "size          192 non-null object\n",
      "title         192 non-null object\n",
      "dtypes: datetime64[ns](1), int64(2), object(5)\n",
      "memory usage: 12.1+ KB\n",
      "None\n",
      "\n",
      "     brand       date  difference  \\\n",
      "0  J. Crew 2019-09-06         236   \n",
      "1  J. Crew 2020-03-04          56   \n",
      "2  J. Crew 2020-03-20          40   \n",
      "3  J. Crew 2019-12-04         147   \n",
      "4  J. Crew 2020-01-31          89   \n",
      "\n",
      "                                               image  \\\n",
      "0  https://di2ponv0v5otw.cloudfront.net/posts/201...   \n",
      "1  https://di2ponv0v5otw.cloudfront.net/posts/202...   \n",
      "2  https://di2ponv0v5otw.cloudfront.net/posts/202...   \n",
      "3  https://di2ponv0v5otw.cloudfront.net/posts/201...   \n",
      "4  https://di2ponv0v5otw.cloudfront.net/posts/202...   \n",
      "\n",
      "                                                link  price size  \\\n",
      "0  http://www.poshmark.com/listing/J-Crew-770-Dar...     45   29   \n",
      "1  http://www.poshmark.com/listing/J-Crew-Blue-Je...     25   31   \n",
      "2  http://www.poshmark.com/listing/Mens-JCrew-770...     18   34   \n",
      "3  http://www.poshmark.com/listing/J-Crew-Slim-Fi...     49   31   \n",
      "4  http://www.poshmark.com/listing/JCrew-The-Sutt...     25        \n",
      "\n",
      "                                               title  \n",
      "0       J Crew 770 Dark Wash Slim Straight Jeans W29  \n",
      "1                                 J. Crew Blue Jeans  \n",
      "2         Mens J.Crew 770 Straight-fit jeans 34W 32L  \n",
      "3  J Crew Slim Fit Jean in Stretch Resin Rinse 31/30  \n",
      "4                            J.Crew The Sutton Jeans  \n"
     ]
    }
   ],
   "source": [
    "import pandas as pd\n",
    "\n",
    "df = pd.DataFrame(store)\n",
    "print(df.info())\n",
    "print('')\n",
    "print(df.head())"
   ]
  },
  {
   "cell_type": "code",
   "execution_count": 36,
   "metadata": {},
   "outputs": [],
   "source": [
    "df['length'] = df['title'].map(lambda x: len(x))"
   ]
  },
  {
   "cell_type": "code",
   "execution_count": 37,
   "metadata": {},
   "outputs": [
    {
     "data": {
      "text/html": [
       "<div>\n",
       "<style scoped>\n",
       "    .dataframe tbody tr th:only-of-type {\n",
       "        vertical-align: middle;\n",
       "    }\n",
       "\n",
       "    .dataframe tbody tr th {\n",
       "        vertical-align: top;\n",
       "    }\n",
       "\n",
       "    .dataframe thead th {\n",
       "        text-align: right;\n",
       "    }\n",
       "</style>\n",
       "<table border=\"1\" class=\"dataframe\">\n",
       "  <thead>\n",
       "    <tr style=\"text-align: right;\">\n",
       "      <th></th>\n",
       "      <th>brand</th>\n",
       "      <th>date</th>\n",
       "      <th>difference</th>\n",
       "      <th>image</th>\n",
       "      <th>link</th>\n",
       "      <th>price</th>\n",
       "      <th>size</th>\n",
       "      <th>title</th>\n",
       "      <th>length</th>\n",
       "    </tr>\n",
       "  </thead>\n",
       "  <tbody>\n",
       "    <tr>\n",
       "      <th>0</th>\n",
       "      <td>J. Crew</td>\n",
       "      <td>2019-09-06</td>\n",
       "      <td>236</td>\n",
       "      <td>https://di2ponv0v5otw.cloudfront.net/posts/201...</td>\n",
       "      <td>http://www.poshmark.com/listing/J-Crew-770-Dar...</td>\n",
       "      <td>45</td>\n",
       "      <td>29</td>\n",
       "      <td>J Crew 770 Dark Wash Slim Straight Jeans W29</td>\n",
       "      <td>44</td>\n",
       "    </tr>\n",
       "    <tr>\n",
       "      <th>1</th>\n",
       "      <td>J. Crew</td>\n",
       "      <td>2020-03-04</td>\n",
       "      <td>56</td>\n",
       "      <td>https://di2ponv0v5otw.cloudfront.net/posts/202...</td>\n",
       "      <td>http://www.poshmark.com/listing/J-Crew-Blue-Je...</td>\n",
       "      <td>25</td>\n",
       "      <td>31</td>\n",
       "      <td>J. Crew Blue Jeans</td>\n",
       "      <td>18</td>\n",
       "    </tr>\n",
       "    <tr>\n",
       "      <th>2</th>\n",
       "      <td>J. Crew</td>\n",
       "      <td>2020-03-20</td>\n",
       "      <td>40</td>\n",
       "      <td>https://di2ponv0v5otw.cloudfront.net/posts/202...</td>\n",
       "      <td>http://www.poshmark.com/listing/Mens-JCrew-770...</td>\n",
       "      <td>18</td>\n",
       "      <td>34</td>\n",
       "      <td>Mens J.Crew 770 Straight-fit jeans 34W 32L</td>\n",
       "      <td>42</td>\n",
       "    </tr>\n",
       "    <tr>\n",
       "      <th>3</th>\n",
       "      <td>J. Crew</td>\n",
       "      <td>2019-12-04</td>\n",
       "      <td>147</td>\n",
       "      <td>https://di2ponv0v5otw.cloudfront.net/posts/201...</td>\n",
       "      <td>http://www.poshmark.com/listing/J-Crew-Slim-Fi...</td>\n",
       "      <td>49</td>\n",
       "      <td>31</td>\n",
       "      <td>J Crew Slim Fit Jean in Stretch Resin Rinse 31/30</td>\n",
       "      <td>49</td>\n",
       "    </tr>\n",
       "    <tr>\n",
       "      <th>4</th>\n",
       "      <td>J. Crew</td>\n",
       "      <td>2020-01-31</td>\n",
       "      <td>89</td>\n",
       "      <td>https://di2ponv0v5otw.cloudfront.net/posts/202...</td>\n",
       "      <td>http://www.poshmark.com/listing/JCrew-The-Sutt...</td>\n",
       "      <td>25</td>\n",
       "      <td></td>\n",
       "      <td>J.Crew The Sutton Jeans</td>\n",
       "      <td>23</td>\n",
       "    </tr>\n",
       "  </tbody>\n",
       "</table>\n",
       "</div>"
      ],
      "text/plain": [
       "     brand       date  difference  \\\n",
       "0  J. Crew 2019-09-06         236   \n",
       "1  J. Crew 2020-03-04          56   \n",
       "2  J. Crew 2020-03-20          40   \n",
       "3  J. Crew 2019-12-04         147   \n",
       "4  J. Crew 2020-01-31          89   \n",
       "\n",
       "                                               image  \\\n",
       "0  https://di2ponv0v5otw.cloudfront.net/posts/201...   \n",
       "1  https://di2ponv0v5otw.cloudfront.net/posts/202...   \n",
       "2  https://di2ponv0v5otw.cloudfront.net/posts/202...   \n",
       "3  https://di2ponv0v5otw.cloudfront.net/posts/201...   \n",
       "4  https://di2ponv0v5otw.cloudfront.net/posts/202...   \n",
       "\n",
       "                                                link  price size  \\\n",
       "0  http://www.poshmark.com/listing/J-Crew-770-Dar...     45   29   \n",
       "1  http://www.poshmark.com/listing/J-Crew-Blue-Je...     25   31   \n",
       "2  http://www.poshmark.com/listing/Mens-JCrew-770...     18   34   \n",
       "3  http://www.poshmark.com/listing/J-Crew-Slim-Fi...     49   31   \n",
       "4  http://www.poshmark.com/listing/JCrew-The-Sutt...     25        \n",
       "\n",
       "                                               title  length  \n",
       "0       J Crew 770 Dark Wash Slim Straight Jeans W29      44  \n",
       "1                                 J. Crew Blue Jeans      18  \n",
       "2         Mens J.Crew 770 Straight-fit jeans 34W 32L      42  \n",
       "3  J Crew Slim Fit Jean in Stretch Resin Rinse 31/30      49  \n",
       "4                            J.Crew The Sutton Jeans      23  "
      ]
     },
     "execution_count": 37,
     "metadata": {},
     "output_type": "execute_result"
    }
   ],
   "source": [
    "df.head()"
   ]
  },
  {
   "cell_type": "code",
   "execution_count": 38,
   "metadata": {},
   "outputs": [
    {
     "data": {
      "text/html": [
       "<div>\n",
       "<style scoped>\n",
       "    .dataframe tbody tr th:only-of-type {\n",
       "        vertical-align: middle;\n",
       "    }\n",
       "\n",
       "    .dataframe tbody tr th {\n",
       "        vertical-align: top;\n",
       "    }\n",
       "\n",
       "    .dataframe thead th {\n",
       "        text-align: right;\n",
       "    }\n",
       "</style>\n",
       "<table border=\"1\" class=\"dataframe\">\n",
       "  <thead>\n",
       "    <tr style=\"text-align: right;\">\n",
       "      <th></th>\n",
       "      <th>brand</th>\n",
       "      <th>price</th>\n",
       "      <th>size</th>\n",
       "      <th>difference</th>\n",
       "      <th>length</th>\n",
       "    </tr>\n",
       "  </thead>\n",
       "  <tbody>\n",
       "    <tr>\n",
       "      <th>0</th>\n",
       "      <td>J. Crew</td>\n",
       "      <td>45</td>\n",
       "      <td>29</td>\n",
       "      <td>236</td>\n",
       "      <td>44</td>\n",
       "    </tr>\n",
       "    <tr>\n",
       "      <th>1</th>\n",
       "      <td>J. Crew</td>\n",
       "      <td>25</td>\n",
       "      <td>31</td>\n",
       "      <td>56</td>\n",
       "      <td>18</td>\n",
       "    </tr>\n",
       "    <tr>\n",
       "      <th>2</th>\n",
       "      <td>J. Crew</td>\n",
       "      <td>18</td>\n",
       "      <td>34</td>\n",
       "      <td>40</td>\n",
       "      <td>42</td>\n",
       "    </tr>\n",
       "    <tr>\n",
       "      <th>3</th>\n",
       "      <td>J. Crew</td>\n",
       "      <td>49</td>\n",
       "      <td>31</td>\n",
       "      <td>147</td>\n",
       "      <td>49</td>\n",
       "    </tr>\n",
       "    <tr>\n",
       "      <th>4</th>\n",
       "      <td>J. Crew</td>\n",
       "      <td>25</td>\n",
       "      <td></td>\n",
       "      <td>89</td>\n",
       "      <td>23</td>\n",
       "    </tr>\n",
       "  </tbody>\n",
       "</table>\n",
       "</div>"
      ],
      "text/plain": [
       "     brand  price size  difference  length\n",
       "0  J. Crew     45   29         236      44\n",
       "1  J. Crew     25   31          56      18\n",
       "2  J. Crew     18   34          40      42\n",
       "3  J. Crew     49   31         147      49\n",
       "4  J. Crew     25               89      23"
      ]
     },
     "execution_count": 38,
     "metadata": {},
     "output_type": "execute_result"
    }
   ],
   "source": [
    "numeric_df = df[['brand', 'price', 'size', 'difference', 'length']]\n",
    "numeric_df.head()"
   ]
  },
  {
   "cell_type": "code",
   "execution_count": 39,
   "metadata": {},
   "outputs": [
    {
     "data": {
      "text/html": [
       "<div>\n",
       "<style scoped>\n",
       "    .dataframe tbody tr th:only-of-type {\n",
       "        vertical-align: middle;\n",
       "    }\n",
       "\n",
       "    .dataframe tbody tr th {\n",
       "        vertical-align: top;\n",
       "    }\n",
       "\n",
       "    .dataframe thead th {\n",
       "        text-align: right;\n",
       "    }\n",
       "</style>\n",
       "<table border=\"1\" class=\"dataframe\">\n",
       "  <thead>\n",
       "    <tr style=\"text-align: right;\">\n",
       "      <th></th>\n",
       "      <th>price</th>\n",
       "      <th>difference</th>\n",
       "      <th>length</th>\n",
       "    </tr>\n",
       "  </thead>\n",
       "  <tbody>\n",
       "    <tr>\n",
       "      <th>count</th>\n",
       "      <td>192.000000</td>\n",
       "      <td>192.000000</td>\n",
       "      <td>192.000000</td>\n",
       "    </tr>\n",
       "    <tr>\n",
       "      <th>mean</th>\n",
       "      <td>51.401042</td>\n",
       "      <td>124.427083</td>\n",
       "      <td>41.177083</td>\n",
       "    </tr>\n",
       "    <tr>\n",
       "      <th>std</th>\n",
       "      <td>35.326904</td>\n",
       "      <td>141.842014</td>\n",
       "      <td>9.830495</td>\n",
       "    </tr>\n",
       "    <tr>\n",
       "      <th>min</th>\n",
       "      <td>9.000000</td>\n",
       "      <td>2.000000</td>\n",
       "      <td>10.000000</td>\n",
       "    </tr>\n",
       "    <tr>\n",
       "      <th>25%</th>\n",
       "      <td>25.000000</td>\n",
       "      <td>42.000000</td>\n",
       "      <td>38.750000</td>\n",
       "    </tr>\n",
       "    <tr>\n",
       "      <th>50%</th>\n",
       "      <td>40.000000</td>\n",
       "      <td>71.000000</td>\n",
       "      <td>45.000000</td>\n",
       "    </tr>\n",
       "    <tr>\n",
       "      <th>75%</th>\n",
       "      <td>68.250000</td>\n",
       "      <td>156.000000</td>\n",
       "      <td>48.000000</td>\n",
       "    </tr>\n",
       "    <tr>\n",
       "      <th>max</th>\n",
       "      <td>180.000000</td>\n",
       "      <td>1247.000000</td>\n",
       "      <td>50.000000</td>\n",
       "    </tr>\n",
       "  </tbody>\n",
       "</table>\n",
       "</div>"
      ],
      "text/plain": [
       "            price   difference      length\n",
       "count  192.000000   192.000000  192.000000\n",
       "mean    51.401042   124.427083   41.177083\n",
       "std     35.326904   141.842014    9.830495\n",
       "min      9.000000     2.000000   10.000000\n",
       "25%     25.000000    42.000000   38.750000\n",
       "50%     40.000000    71.000000   45.000000\n",
       "75%     68.250000   156.000000   48.000000\n",
       "max    180.000000  1247.000000   50.000000"
      ]
     },
     "execution_count": 39,
     "metadata": {},
     "output_type": "execute_result"
    }
   ],
   "source": [
    "# Check for extreme values\n",
    "numeric_df.describe()"
   ]
  },
  {
   "cell_type": "code",
   "execution_count": 40,
   "metadata": {},
   "outputs": [
    {
     "data": {
      "text/html": [
       "<div>\n",
       "<style scoped>\n",
       "    .dataframe tbody tr th:only-of-type {\n",
       "        vertical-align: middle;\n",
       "    }\n",
       "\n",
       "    .dataframe tbody tr th {\n",
       "        vertical-align: top;\n",
       "    }\n",
       "\n",
       "    .dataframe thead th {\n",
       "        text-align: right;\n",
       "    }\n",
       "</style>\n",
       "<table border=\"1\" class=\"dataframe\">\n",
       "  <thead>\n",
       "    <tr style=\"text-align: right;\">\n",
       "      <th></th>\n",
       "      <th>Brand</th>\n",
       "      <th>Price</th>\n",
       "      <th>Days Listed</th>\n",
       "      <th>Title Length</th>\n",
       "    </tr>\n",
       "  </thead>\n",
       "  <tbody>\n",
       "    <tr>\n",
       "      <th>0</th>\n",
       "      <td>Diesel</td>\n",
       "      <td>50.0</td>\n",
       "      <td>80.0</td>\n",
       "      <td>43.0</td>\n",
       "    </tr>\n",
       "    <tr>\n",
       "      <th>1</th>\n",
       "      <td>J. Crew</td>\n",
       "      <td>27.0</td>\n",
       "      <td>72.5</td>\n",
       "      <td>42.0</td>\n",
       "    </tr>\n",
       "    <tr>\n",
       "      <th>2</th>\n",
       "      <td>Levi's</td>\n",
       "      <td>26.5</td>\n",
       "      <td>70.5</td>\n",
       "      <td>45.0</td>\n",
       "    </tr>\n",
       "    <tr>\n",
       "      <th>3</th>\n",
       "      <td>Naked &amp; Famous Denim</td>\n",
       "      <td>82.0</td>\n",
       "      <td>68.5</td>\n",
       "      <td>47.0</td>\n",
       "    </tr>\n",
       "    <tr>\n",
       "      <th>4</th>\n",
       "      <td>diesel</td>\n",
       "      <td>24.0</td>\n",
       "      <td>6.0</td>\n",
       "      <td>48.0</td>\n",
       "    </tr>\n",
       "  </tbody>\n",
       "</table>\n",
       "</div>"
      ],
      "text/plain": [
       "                  Brand  Price  Days Listed  Title Length\n",
       "0                Diesel   50.0         80.0          43.0\n",
       "1               J. Crew   27.0         72.5          42.0\n",
       "2                Levi's   26.5         70.5          45.0\n",
       "3  Naked & Famous Denim   82.0         68.5          47.0\n",
       "4                diesel   24.0          6.0          48.0"
      ]
     },
     "execution_count": 40,
     "metadata": {},
     "output_type": "execute_result"
    }
   ],
   "source": [
    "# Compare medians by brand\n",
    "numeric_df.groupby('brand')['price', 'difference', 'length'].median().reset_index().rename(\n",
    "    columns={'brand':'Brand', 'price':'Price', 'difference':'Days Listed', 'length':'Title Length'})"
   ]
  },
  {
   "cell_type": "code",
   "execution_count": 41,
   "metadata": {},
   "outputs": [],
   "source": [
    "# Export to CSV\n",
    "df.to_csv('source_data.csv')\n",
    "numeric_df.to_csv('numeric_data.csv')"
   ]
  },
  {
   "cell_type": "markdown",
   "metadata": {},
   "source": [
    "## Visualizing the distributions\n",
    "\n",
    "Use `matplotlib` to plot and analyze the distributions in our data."
   ]
  },
  {
   "cell_type": "code",
   "execution_count": 52,
   "metadata": {},
   "outputs": [],
   "source": [
    "import matplotlib.pyplot as plt\n",
    "%matplotlib inline  "
   ]
  },
  {
   "cell_type": "code",
   "execution_count": 53,
   "metadata": {},
   "outputs": [
    {
     "data": {
      "image/png": "[encoded data removed]",
      "text/plain": [
       "<Figure size 432x288 with 1 Axes>"
      ]
     },
     "metadata": {
      "needs_background": "light"
     },
     "output_type": "display_data"
    }
   ],
   "source": [
    "df['price'].plot.hist(bins=12, alpha=0.5);"
   ]
  },
  {
   "cell_type": "code",
   "execution_count": 65,
   "metadata": {},
   "outputs": [
    {
     "data": {
      "image/png": "[encoded data removed]",
      "text/plain": [
       "<Figure size 432x288 with 1 Axes>"
      ]
     },
     "metadata": {
      "needs_background": "light"
     },
     "output_type": "display_data"
    },
    {
     "data": {
      "image/png": "[encoded data removed]",
      "text/plain": [
       "<Figure size 432x288 with 1 Axes>"
      ]
     },
     "metadata": {
      "needs_background": "light"
     },
     "output_type": "display_data"
    },
    {
     "data": {
      "image/png": "[encoded data removed]",
      "text/plain": [
       "<Figure size 432x288 with 1 Axes>"
      ]
     },
     "metadata": {
      "needs_background": "light"
     },
     "output_type": "display_data"
    },
    {
     "data": {
      "image/png": "[encoded data removed]",
      "text/plain": [
       "<Figure size 432x288 with 1 Axes>"
      ]
     },
     "metadata": {
      "needs_background": "light"
     },
     "output_type": "display_data"
    },
    {
     "data": {
      "image/png": "[encoded data removed]",
      "text/plain": [
       "<Figure size 432x288 with 1 Axes>"
      ]
     },
     "metadata": {
      "needs_background": "light"
     },
     "output_type": "display_data"
    }
   ],
   "source": [
    "distinct_keys = df['brand'].unique()\n",
    "for key in distinct_keys:\n",
    "    plt.figure();\n",
    "    df_subset = df[df.brand==key]\n",
    "    df_subset['price'].plot.hist(bins=12, alpha=0.2, title=key);"
   ]
  },
  {
   "cell_type": "code",
   "execution_count": 48,
   "metadata": {},
   "outputs": [
    {
     "data": {
      "image/png": "[encoded data removed]",
      "text/plain": [
       "<Figure size 432x288 with 1 Axes>"
      ]
     },
     "metadata": {
      "needs_background": "light"
     },
     "output_type": "display_data"
    }
   ],
   "source": [
    "# Distribution of days listed\n",
    "df['difference'].plot.hist(bins=12, alpha=0.5);"
   ]
  },
  {
   "cell_type": "code",
   "execution_count": 66,
   "metadata": {},
   "outputs": [
    {
     "data": {
      "image/png": "[encoded data removed]",
      "text/plain": [
       "<Figure size 432x288 with 1 Axes>"
      ]
     },
     "metadata": {
      "needs_background": "light"
     },
     "output_type": "display_data"
    },
    {
     "data": {
      "image/png": "[encoded data removed]",
      "text/plain": [
       "<Figure size 432x288 with 1 Axes>"
      ]
     },
     "metadata": {
      "needs_background": "light"
     },
     "output_type": "display_data"
    },
    {
     "data": {
      "image/png": "[encoded data removed]",
      "text/plain": [
       "<Figure size 432x288 with 1 Axes>"
      ]
     },
     "metadata": {
      "needs_background": "light"
     },
     "output_type": "display_data"
    },
    {
     "data": {
      "image/png": "[encoded data removed]",
      "text/plain": [
       "<Figure size 432x288 with 1 Axes>"
      ]
     },
     "metadata": {
      "needs_background": "light"
     },
     "output_type": "display_data"
    },
    {
     "data": {
      "image/png": "[encoded data removed]",
      "text/plain": [
       "<Figure size 432x288 with 1 Axes>"
      ]
     },
     "metadata": {
      "needs_background": "light"
     },
     "output_type": "display_data"
    }
   ],
   "source": [
    "distinct_keys = df['brand'].unique()\n",
    "for key in distinct_keys:\n",
    "    plt.figure();\n",
    "    df_subset = df[df.brand==key]\n",
    "    df_subset['difference'].plot.hist(bins=12, alpha=0.2, title=key);"
   ]
  },
  {
   "cell_type": "code",
   "execution_count": 47,
   "metadata": {},
   "outputs": [
    {
     "data": {
      "image/png": "[encoded data removed]",
      "text/plain": [
       "<Figure size 432x288 with 1 Axes>"
      ]
     },
     "metadata": {
      "needs_background": "light"
     },
     "output_type": "display_data"
    }
   ],
   "source": [
    "# Distribution of title length\n",
    "df['length'].plot.hist(bins=12, alpha=0.5);"
   ]
  },
  {
   "cell_type": "code",
   "execution_count": null,
   "metadata": {},
   "outputs": [],
   "source": []
  },
  {
   "cell_type": "markdown",
   "metadata": {},
   "source": [
    "## Questions, Feedback and Ideas\n",
    "\n",
    "If you have any questions or feedback, please use the chat.\n",
    "\n",
    "Also, I'd like to run bi-weekly or even weekly demos like this for next 6 months. If you have any ideas or requests, please share them. I like to focus on introductory techniques that pair well with a working knowledge of Python."
   ]
  },
  {
   "cell_type": "code",
   "execution_count": null,
   "metadata": {},
   "outputs": [],
   "source": []
  }
 ],
 "metadata": {
  "kernelspec": {
   "display_name": "Python 3",
   "language": "python",
   "name": "python3"
  },
  "language_info": {
   "codemirror_mode": {
    "name": "ipython",
    "version": 3
   },
   "file_extension": ".py",
   "mimetype": "text/x-python",
   "name": "python",
   "nbconvert_exporter": "python",
   "pygments_lexer": "ipython3",
   "version": "3.7.3"
  }
 },
 "nbformat": 4,
 "nbformat_minor": 2
}

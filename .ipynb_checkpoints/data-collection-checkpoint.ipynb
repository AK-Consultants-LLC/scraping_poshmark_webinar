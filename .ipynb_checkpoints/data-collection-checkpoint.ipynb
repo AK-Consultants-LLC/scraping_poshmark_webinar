{
 "cells": [
  {
   "cell_type": "code",
   "execution_count": 2,
   "metadata": {},
   "outputs": [],
   "source": [
    "# Import necessary packages\n",
    "from requests import get\n",
    "from bs4 import BeautifulSoup\n",
    "import pandas as pd\n",
    "from time import sleep\n",
    "from string import Template\n",
    "\n",
    "from dateutil.parser import parse\n",
    "from datetime import datetime, timedelta\n",
    "\n",
    "import pickle"
   ]
  },
  {
   "cell_type": "code",
   "execution_count": 3,
   "metadata": {},
   "outputs": [],
   "source": [
    "naked_famous_jeans = \"https://poshmark.com/brand/Naked_&_Famous_Denim-Men-Jeans?sort_by=added_desc\"\n",
    "adidas_shoes = \"https://poshmark.com/brand/adidas-Men-Shoes-Sneakers-color-Gray?sort_by=added_desc&size=9.5\"\n",
    "\n",
    "saved_searches = [naked_famous_jeans, adidas_shoes]"
   ]
  },
  {
   "cell_type": "code",
   "execution_count": 4,
   "metadata": {},
   "outputs": [],
   "source": [
    "HEADER = { 'user-agent': 'Mozilla/5.0 (Macintosh; Intel Mac OS X 10_11_6) AppleWebKit/537.36 (KHTML, like Gecko) Chrome/53.0.2785.143 Safari/537.36'}\n",
    "\n",
    "def run_search(search_url):\n",
    "    \"Pull down search results and extract out product cards\"\n",
    "    response = get(search_url, headers=HEADER)\n",
    "    html_soup = BeautifulSoup(response.text, 'html.parser')\n",
    "    item_container = html_soup.find_all('div', class_ = 'tile')\n",
    "    \n",
    "    return item_container"
   ]
  },
  {
   "cell_type": "code",
   "execution_count": 5,
   "metadata": {},
   "outputs": [],
   "source": [
    "def calculate_est(time_str):\n",
    "    \"Convert product time from PST to EST\"\n",
    "    formatted_date = parse(time_str, ignoretz=True)\n",
    "    est_date = formatted_date + timedelta(hours=3)\n",
    "    \n",
    "    return est_date\n",
    "\n",
    "def compare_time(time_value):\n",
    "    \"Find delta between 2 datetime objects\"\n",
    "    now = datetime.now()\n",
    "    diff = abs((time_value-now).days)\n",
    "    \n",
    "    return diff\n",
    "\n",
    "def diff_days(item):\n",
    "    \"Return difference in days\"\n",
    "    created_date = item['data-created-at']\n",
    "    est_date = calculate_est(created_date)\n",
    "    difference = compare_time(est_date)\n",
    "    \n",
    "    return difference\n",
    "\n",
    "def return_attributes(soup_obj):\n",
    "    \"Extract product values from card\"\n",
    "    price = soup_obj['data-post-price']\n",
    "    \n",
    "    url_tag = soup_obj.a\n",
    "    url = url_tag['href']\n",
    "    title = url_tag['title']\n",
    "    title = title.encode('ascii', 'ignore').decode(\"utf-8\")\n",
    "        \n",
    "    img_tag = url_tag.img\n",
    "    img = img_tag['src']\n",
    "        \n",
    "    return (title, price, url, img)"
   ]
  },
  {
   "cell_type": "code",
   "execution_count": 6,
   "metadata": {},
   "outputs": [],
   "source": [
    "def get_recent_items(search_url, days=2):\n",
    "    \"Find all products posted within the day parameters\"\n",
    "    items = run_search(search_url)\n",
    "    recent_items = []\n",
    "    \n",
    "    for item in items:\n",
    "        difference = diff_days(item)\n",
    "\n",
    "        if difference <= 2:\n",
    "            print(\"Days:\", difference)\n",
    "            item_values = return_attributes(item)\n",
    "            recent_items.append(item_values)\n",
    "            print('Added new item')\n",
    "        else:\n",
    "            print('No items in the given time range')\n",
    "            break\n",
    "    \n",
    "    return recent_items"
   ]
  },
  {
   "cell_type": "code",
   "execution_count": 7,
   "metadata": {},
   "outputs": [
    {
     "data": {
      "text/plain": [
       "'https://poshmark.com/brand/adidas-Men-Shoes-Sneakers-color-Gray?sort_by=added_desc&size=9.5'"
      ]
     },
     "execution_count": 7,
     "metadata": {},
     "output_type": "execute_result"
    }
   ],
   "source": [
    "adidas_shoes"
   ]
  },
  {
   "cell_type": "code",
   "execution_count": 70,
   "metadata": {},
   "outputs": [
    {
     "name": "stdout",
     "output_type": "stream",
     "text": [
      "Days: 1\n",
      "Added new item\n",
      "Days: 1\n",
      "Added new item\n",
      "Days: 2\n",
      "Added new item\n",
      "Days: 2\n",
      "Added new item\n",
      "Days: 2\n",
      "Added new item\n",
      "Days: 2\n",
      "Added new item\n",
      "Days: 2\n",
      "Added new item\n",
      "Days: 2\n",
      "Added new item\n",
      "Days: 2\n",
      "Added new item\n",
      "Days: 2\n",
      "Added new item\n",
      "No items in the given time range\n"
     ]
    }
   ],
   "source": [
    "recent_adidas = get_recent_items(adidas_shoes)\n",
    "print(recent_adidas)"
   ]
  },
  {
   "cell_type": "code",
   "execution_count": 75,
   "metadata": {},
   "outputs": [],
   "source": [
    "pickle.dump(recent_adidas, open(\"adidas.p\", \"wb\"))\n",
    "# recent_adidas = pickle.load(open(\"adidas.p\", \"rb\"))"
   ]
  },
  {
   "cell_type": "markdown",
   "metadata": {},
   "source": [
    "## Sending emails\n",
    "\n",
    "For the rest of the tutorial, I’ll assume you’re using a Gmail account, but if you’re using a local debugging server, just make sure to use localhost as your SMTP server and use port 1025 rather than port 465 or 587. Besides this, you won’t need to use login() or encrypt the communication using SSL/TLS."
   ]
  },
  {
   "cell_type": "code",
   "execution_count": 8,
   "metadata": {},
   "outputs": [],
   "source": [
    "def generate_li_elements(collection):\n",
    "    li_group = \"\"\n",
    "    for item in collection:\n",
    "        title = item[0]\n",
    "        price = item[1]\n",
    "        link = \"https://poshmark.com\" + item[2]\n",
    "        img = item[3]\n",
    "        li_element = f'<p><a href=\"{link}\">{title}</a> - {price}</p>'\n",
    "        li_group += li_element\n",
    "    \n",
    "    return li_group\n",
    "    \n",
    "# adidas_li = generate_li_elements(recent_adidas)\n",
    "# adidas_li"
   ]
  },
  {
   "cell_type": "code",
   "execution_count": 3,
   "metadata": {},
   "outputs": [
    {
     "name": "stdout",
     "output_type": "stream",
     "text": [
      "Hi,  \n",
      "These items were shared recently:  \n",
      "\n",
      "\n"
     ]
    }
   ],
   "source": [
    "from html2text import html2text\n",
    "\n",
    "sample_html = \"\"\"\\\n",
    "<html>\n",
    "  <body>\n",
    "    <p>Hi,<br>\n",
    "       These items were shared recently:<br>\n",
    "    </p>\n",
    "  </body>\n",
    "</html>\n",
    "\"\"\"\n",
    "\n",
    "print(html2text(sample_html))"
   ]
  },
  {
   "cell_type": "code",
   "execution_count": null,
   "metadata": {},
   "outputs": [],
   "source": []
  },
  {
   "cell_type": "code",
   "execution_count": 9,
   "metadata": {},
   "outputs": [],
   "source": [
    "import smtplib, ssl\n",
    "from email.mime.text import MIMEText\n",
    "from email.mime.multipart import MIMEMultipart\n",
    "\n",
    "def send_email(list_items):\n",
    "    sender_email = \"poshminder@gmail.com\"\n",
    "    receiver_email = \"me@tyshaikh.com\"\n",
    "    password = \"posh2020\"\n",
    "\n",
    "    message = MIMEMultipart(\"alternative\")\n",
    "    message[\"Subject\"] = \"Poshmark Memo\"\n",
    "    message[\"From\"] = sender_email\n",
    "    message[\"To\"] = receiver_email\n",
    "\n",
    "    # Create the plain-text and HTML version of your message\n",
    "    text = \"\"\"\\\n",
    "    Hi,\n",
    "    Here are the recent items posted for your saved searches:\n",
    "    \"\"\" \n",
    "\n",
    "    html = \"\"\"\\\n",
    "    <html>\n",
    "      <body>\n",
    "        <p>Hi,<br>\n",
    "           These items were shared recently:<br>\n",
    "    \"\"\" + list_items + \"\"\"\n",
    "        </p>\n",
    "      </body>\n",
    "    </html>\n",
    "    \"\"\"\n",
    "\n",
    "\n",
    "    # Turn these into plain/html MIMEText objects\n",
    "    part1 = MIMEText(text, \"plain\")\n",
    "    part2 = MIMEText(str(html), \"html\")\n",
    "\n",
    "    # Add HTML/plain-text parts to MIMEMultipart message\n",
    "    # The email client will try to render the last part first\n",
    "    message.attach(part1)\n",
    "    message.attach(part2)\n",
    "\n",
    "    # Create secure connection with server and send email\n",
    "    context = ssl.create_default_context()\n",
    "    with smtplib.SMTP_SSL(\"smtp.gmail.com\", 465, context=context) as server:\n",
    "        server.login(sender_email, password)\n",
    "        server.sendmail(\n",
    "            sender_email, receiver_email, message.as_string()\n",
    "        )"
   ]
  },
  {
   "cell_type": "code",
   "execution_count": null,
   "metadata": {},
   "outputs": [],
   "source": [
    "total_items = []\n",
    "\n",
    "for search in saved_searches:\n",
    "    print(\"Scraping: \", search)\n",
    "    items = get_recent_items(search)\n",
    "    total_items += items\n",
    "\n",
    "print(\"Generating email markup\")\n",
    "markup = generate_li_elements(total_items)\n",
    "\n",
    "print(\"Sending email\")\n",
    "send_email(markup)\n",
    "\n",
    "print(\"\")"
   ]
  }
 ],
 "metadata": {
  "kernelspec": {
   "display_name": "Python 3",
   "language": "python",
   "name": "python3"
  },
  "language_info": {
   "codemirror_mode": {
    "name": "ipython",
    "version": 3
   },
   "file_extension": ".py",
   "mimetype": "text/x-python",
   "name": "python",
   "nbconvert_exporter": "python",
   "pygments_lexer": "ipython3",
   "version": "3.7.3"
  }
 },
 "nbformat": 4,
 "nbformat_minor": 2
}
